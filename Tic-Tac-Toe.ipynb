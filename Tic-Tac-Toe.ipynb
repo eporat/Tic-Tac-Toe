{
 "cells": [
  {
   "cell_type": "code",
   "execution_count": 1,
   "metadata": {},
   "outputs": [],
   "source": [
    "EMPTY = 0\n",
    "X = 1\n",
    "O = 2\n",
    "N = 3\n",
    "\n",
    "POSITIVE_DIAGONAL = set(zip(range(N), range(N)))\n",
    "NEGATIVE_DIAGONAL = set(zip(range(N), reversed(range(N))))"
   ]
  },
  {
   "cell_type": "code",
   "execution_count": 2,
   "metadata": {},
   "outputs": [],
   "source": [
    "def play_move(board, player, row, col):\n",
    "    board[row][col] = player\n",
    "    if check_row(board, row) or check_col(board, col) \\\n",
    "        or check_positive_diagonal(board, row, col) or check_negative_diagonal(board, row, col):\n",
    "        return 1\n",
    "    \n",
    "    return 0"
   ]
  },
  {
   "cell_type": "code",
   "execution_count": 3,
   "metadata": {},
   "outputs": [],
   "source": [
    "def switch(player):\n",
    "    if player == X:\n",
    "        return O\n",
    "    return X"
   ]
  },
  {
   "cell_type": "code",
   "execution_count": 4,
   "metadata": {},
   "outputs": [],
   "source": [
    "def open_positions(board):\n",
    "    positions = []\n",
    "    for row in range(N):\n",
    "        for col in range(N):\n",
    "            if board[row][col] == EMPTY:\n",
    "                positions.append((row,col))\n",
    "                \n",
    "    return positions"
   ]
  },
  {
   "cell_type": "code",
   "execution_count": 5,
   "metadata": {},
   "outputs": [],
   "source": [
    "def check_row(board, row):\n",
    "    value = board[row][0]\n",
    "    for i in range(1, N):\n",
    "        if board[row][i] != value:\n",
    "            return False\n",
    "    return True"
   ]
  },
  {
   "cell_type": "code",
   "execution_count": 6,
   "metadata": {},
   "outputs": [],
   "source": [
    "def check_col(board, col):\n",
    "    value = board[0][col]\n",
    "    for i in range(1, N):\n",
    "        if board[i][col] != value:\n",
    "            return False\n",
    "    return True"
   ]
  },
  {
   "cell_type": "code",
   "execution_count": 7,
   "metadata": {},
   "outputs": [],
   "source": [
    "def check_positive_diagonal(board, row, col):\n",
    "    if (row,col) not in POSITIVE_DIAGONAL:\n",
    "        return False\n",
    "    \n",
    "    value = board[row][col]\n",
    "    for (row, col) in  POSITIVE_DIAGONAL:\n",
    "        if board[row][col] != value:\n",
    "            return False\n",
    "    return True"
   ]
  },
  {
   "cell_type": "code",
   "execution_count": 8,
   "metadata": {},
   "outputs": [],
   "source": [
    "def check_negative_diagonal(board, row, col):\n",
    "    if (row,col) not in NEGATIVE_DIAGONAL:\n",
    "        return False\n",
    "    \n",
    "    value = board[row][col]\n",
    "    for (row, col) in  NEGATIVE_DIAGONAL:\n",
    "        if board[row][col] != value:\n",
    "            return False\n",
    "    return True"
   ]
  },
  {
   "cell_type": "code",
   "execution_count": 16,
   "metadata": {},
   "outputs": [],
   "source": [
    "import random\n",
    "from copy import deepcopy\n",
    "\n",
    "def montecarlo(board, player, N):\n",
    "    current_player = player\n",
    "    player_score = 0.0\n",
    "\n",
    "    for _ in range(N):\n",
    "        board_copy = deepcopy(board)\n",
    "        while True:\n",
    "            if len(open_positions(board_copy)) == 0:\n",
    "                break\n",
    "\n",
    "            (row, col) = random.choice(open_positions(board_copy))\n",
    "            score = play_move(board_copy, player, row, col)\n",
    "            if score == 1 and player == current_player:\n",
    "                player_score += 1\n",
    "                break\n",
    "            \n",
    "            player = switch(player)\n",
    "            \n",
    "    return player_score / N"
   ]
  },
  {
   "cell_type": "code",
   "execution_count": 31,
   "metadata": {},
   "outputs": [],
   "source": [
    "def choose(board, player, depth, N=100):\n",
    "    value = -float('inf')\n",
    "    \n",
    "    for row, col in open_positions(board):\n",
    "        play_move(board, player, row, col)\n",
    "        next_value = -minimax(board, switch(player), depth-1, N)\n",
    "        board[row][col] = EMPTY\n",
    "\n",
    "        if value < next_value:\n",
    "            value = next_value\n",
    "            best_move = (row, col)\n",
    "    \n",
    "    print(value)\n",
    "    return best_move\n",
    "\n",
    "def minimax(board, player, depth, N):\n",
    "    if len(open_positions(board)) == 0: \n",
    "        return 0\n",
    "    \n",
    "    if depth == 0:\n",
    "        return montecarlo(board, player, N)\n",
    "    \n",
    "    for row, col in open_positions(board):\n",
    "        score = play_move(board, player, row, col)\n",
    "        board[row][col] = EMPTY\n",
    "        if score == 1:\n",
    "            return 1\n",
    "        \n",
    "    value = -float('inf')\n",
    "    \n",
    "    for row, col in open_positions(board):\n",
    "        play_move(board, player, row, col)\n",
    "        next_value = -minimax(board, switch(player), depth-1, N)\n",
    "        board[row][col] = EMPTY\n",
    "        \n",
    "        if value < next_value:\n",
    "            value = next_value\n",
    "\n",
    "    return value"
   ]
  },
  {
   "cell_type": "code",
   "execution_count": 32,
   "metadata": {},
   "outputs": [],
   "source": [
    "def print_board(board):\n",
    "    print()\n",
    "    for i,row in enumerate(board):\n",
    "        for square in row:\n",
    "            if square == X:\n",
    "                print('  X  |', end='  ')\n",
    "            elif square == O:\n",
    "                print('  O  |', end='  ')\n",
    "            else:\n",
    "                print('     |', end='  ')\n",
    "        if i == len(board) - 1:\n",
    "            print()\n",
    "        else:\n",
    "            print('\\n'+'________'*N)"
   ]
  },
  {
   "cell_type": "code",
   "execution_count": 33,
   "metadata": {},
   "outputs": [],
   "source": [
    "def game():\n",
    "    \n",
    "    board = [[0 for col in range(N)] for row in range(N)]\n",
    "    \n",
    "    player = O\n",
    "    \n",
    "    print_board(board)\n",
    "\n",
    "    while True:\n",
    "        row, col = choose(board, player, depth=1, N=1)\n",
    "        score = play_move(board, player, row, col)\n",
    "        if score == 1:\n",
    "            print_board(board)\n",
    "            return player\n",
    "        \n",
    "        print_board(board)\n",
    "        \n",
    "        if len(open_positions(board)) == 0:\n",
    "            print('Draw')\n",
    "            return\n",
    "        \n",
    "        player = switch(player)"
   ]
  },
  {
   "cell_type": "code",
   "execution_count": 34,
   "metadata": {
    "scrolled": true
   },
   "outputs": [
    {
     "name": "stdout",
     "output_type": "stream",
     "text": [
      "\n",
      "     |       |       |  \n",
      "________________________\n",
      "     |       |       |  \n",
      "________________________\n",
      "     |       |       |  \n",
      "-0.1\n",
      "\n",
      "     |       |       |  \n",
      "________________________\n",
      "     |    O  |       |  \n",
      "________________________\n",
      "     |       |       |  \n",
      "-0.6\n",
      "\n",
      "     |    X  |       |  \n",
      "________________________\n",
      "     |    O  |       |  \n",
      "________________________\n",
      "     |       |       |  \n",
      "-0.0\n",
      "\n",
      "     |    X  |    O  |  \n",
      "________________________\n",
      "     |    O  |       |  \n",
      "________________________\n",
      "     |       |       |  \n",
      "-0.6\n",
      "\n",
      "     |    X  |    O  |  \n",
      "________________________\n",
      "     |    O  |       |  \n",
      "________________________\n",
      "  X  |       |       |  \n",
      "-0.1\n",
      "\n",
      "     |    X  |    O  |  \n",
      "________________________\n",
      "  O  |    O  |       |  \n",
      "________________________\n",
      "  X  |       |       |  \n",
      "-0.3\n",
      "\n",
      "     |    X  |    O  |  \n",
      "________________________\n",
      "  O  |    O  |    X  |  \n",
      "________________________\n",
      "  X  |       |       |  \n",
      "-0.0\n",
      "\n",
      "  O  |    X  |    O  |  \n",
      "________________________\n",
      "  O  |    O  |    X  |  \n",
      "________________________\n",
      "  X  |       |       |  \n",
      "-0.0\n",
      "\n",
      "  O  |    X  |    O  |  \n",
      "________________________\n",
      "  O  |    O  |    X  |  \n",
      "________________________\n",
      "  X  |       |    X  |  \n",
      "0\n",
      "\n",
      "  O  |    X  |    O  |  \n",
      "________________________\n",
      "  O  |    O  |    X  |  \n",
      "________________________\n",
      "  X  |    O  |    X  |  \n",
      "Draw\n"
     ]
    }
   ],
   "source": [
    "game()"
   ]
  },
  {
   "cell_type": "code",
   "execution_count": null,
   "metadata": {},
   "outputs": [],
   "source": []
  },
  {
   "cell_type": "code",
   "execution_count": null,
   "metadata": {},
   "outputs": [],
   "source": []
  },
  {
   "cell_type": "code",
   "execution_count": null,
   "metadata": {},
   "outputs": [],
   "source": []
  }
 ],
 "metadata": {
  "kernelspec": {
   "display_name": "Python 3",
   "language": "python",
   "name": "python3"
  },
  "language_info": {
   "codemirror_mode": {
    "name": "ipython",
    "version": 3
   },
   "file_extension": ".py",
   "mimetype": "text/x-python",
   "name": "python",
   "nbconvert_exporter": "python",
   "pygments_lexer": "ipython3",
   "version": "3.6.5"
  }
 },
 "nbformat": 4,
 "nbformat_minor": 2
}
